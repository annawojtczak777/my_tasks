{
 "cells": [
  {
   "cell_type": "markdown",
   "id": "316575a2",
   "metadata": {},
   "source": [
    "# Zadanie 1 \n",
    "\n",
    "Napisz funkcję create_tower, która jako input przyjmuje integera większego od 0 i która printuje \"piramidę\" z gwiazdek z taką liczbą pięter jak podany integer:\n",
    "\n",
    "Przykładowe rozwiązanie:\n",
    "\n",
    "In: create_tower(3)\n",
    "\n",
    "Out:\n",
    "```\n",
    "  *  \n",
    " *** \n",
    "*****\n",
    "```"
   ]
  },
  {
   "cell_type": "code",
   "execution_count": null,
   "id": "a6ef4050",
   "metadata": {},
   "outputs": [],
   "source": [
    "def create_tower(number):\n",
    "    length = 2 * number - 1 # długość dla ciągu formatującego \n",
    "    for n in range(number):\n",
    "        st = '{:^' + str(length) + '}' # ciąg formatujący\n",
    "        print(st.format(('*'*(2*n+1))))\n",
    "\n",
    "while True:\n",
    "    print('Rysujemy piramidkę? [t/n]')\n",
    "    action = input()\n",
    "    if action == 'n':\n",
    "        break\n",
    "    if action == 't':\n",
    "        try:\n",
    "            number = int(input('Podaj liczbę całkowitą większą od zera: '))\n",
    "            create_tower(number)\n",
    "        except (TypeError, ValueError):\n",
    "            print('Nie wpisales liczby')\n",
    "print('Dzięki za zabawę! ;)')"
   ]
  },
  {
   "cell_type": "markdown",
   "id": "7536bc54",
   "metadata": {},
   "source": [
    "# Zadanie 2 \n",
    "\n",
    "### Napisz gre \"kółko i krzyżyk\"\n",
    "\n",
    "Wyświetlaj aktualny stan planszy przy pomocy znaków 'o', 'x', '-' w trzech wierszach\n",
    "Np.:\n",
    "\n",
    "```\n",
    "--x\n",
    "-x-\n",
    "oo-\n",
    "```\n",
    "\n",
    "Naprzemiennie pytaj użytkowników, gdzie postawić 'x', a gdzie 'o', przyjmując od nich numer pozycji od 1 do 9. Ustawienie pozycji zakładamy następujące:\n",
    "\n",
    "```\n",
    "123\n",
    "456\n",
    "789\n",
    "```\n",
    "\n",
    "Zakończ grę gdy jedna ze stron wygra, lub wszystkie miejsca będą zapełnione.\n",
    "\n",
    "Wyświetlaj aktualny stan planszy każdego etapu po kolei, jedno pod drugim."
   ]
  },
  {
   "cell_type": "code",
   "execution_count": null,
   "id": "90356089",
   "metadata": {},
   "outputs": [],
   "source": [
    "import numpy as np\n",
    "\n",
    "plansza = np.array((('','',''),('','',''),('','',''))) #pusta plansza do gry\n",
    "pozycje = np.array(((1,2,3),(4,5,6),(7,8,9))) #pozycje\n",
    "\n",
    "def wstaw_X(decyzjax): #funcja zwraca planszę z wybraną przez gracza kpozycją krzyżyka\n",
    "    if decyzjax == 1:\n",
    "        plansza[0,0]='X'\n",
    "        print(plansza)\n",
    "    elif decyzjax == 2:\n",
    "        plansza[0,1]='X'\n",
    "        print(plansza)\n",
    "    elif decyzjax == 3:\n",
    "        plansza[0,2]='X'\n",
    "        print(plansza)\n",
    "    elif decyzjax == 4:\n",
    "        plansza[1,0]='X'\n",
    "        print(plansza)\n",
    "    elif decyzjax == 5:\n",
    "        plansza[1,1]='X'\n",
    "        print(plansza)\n",
    "    elif decyzjax == 6:\n",
    "        plansza[1,2]='X'\n",
    "        print(plansza)\n",
    "    elif decyzjax == 7:\n",
    "        plansza[2,0]='X'\n",
    "        print(plansza)\n",
    "    elif decyzjax == 8:\n",
    "        plansza[2,1]='X'\n",
    "        print(plansza)\n",
    "    else:\n",
    "        plansza[2,2]='X'\n",
    "        print(plansza)\n",
    "        \n",
    "def wstaw_O(decyzjo): #funcja zwraca planszę z wybraną przez gracza pozycją kółka\n",
    "    if decyzjao == 1:\n",
    "        plansza[0,0]='O'\n",
    "        print(plansza)\n",
    "    elif decyzjao == 2:\n",
    "        plansza[0,1]='O'\n",
    "        print(plansza)\n",
    "    elif decyzjao == 3:\n",
    "        plansza[0,2]='O'\n",
    "        print(plansza)\n",
    "    elif decyzjao == 4:\n",
    "        plansza[1,0]='O'\n",
    "        print(plansza)\n",
    "    elif decyzjao == 5:\n",
    "        plansza[1,1]='O'\n",
    "        print(plansza)\n",
    "    elif decyzjao == 6:\n",
    "        plansza[1,2]='O'\n",
    "        print(plansza)\n",
    "    elif decyzjao == 7:\n",
    "        plansza[2,0]='O'\n",
    "        print(plansza)\n",
    "    elif decyzjao == 8:\n",
    "        plansza[2,1]='O'\n",
    "        print(plansza)\n",
    "    else:\n",
    "        plansza[2,2]='O'\n",
    "        print(plansza)\n",
    "        \n",
    "def czy_pelna_tablica(t,w = False): #funkcja sprawdza czy tablica jest pełna\n",
    "    if np.count_nonzero(plansza)== 9:\n",
    "        print('Tablica pełna ;)')\n",
    "        w = True\n",
    "    return w\n",
    "\n",
    "def sprawdzenie(p,w): #funkcja sprawdza wygraną\n",
    "\n",
    "    test_x = ['X', 'X', 'X']\n",
    "    test_o = ['O', 'O', 'O']\n",
    "    \n",
    "    w1x = np.isin(plansza[0,:], test_x)\n",
    "    w2x = np.isin(plansza[1,:], test_x)\n",
    "    w3x = np.isin(plansza[2,:], test_x) \n",
    "    k1x = np.isin(plansza[:,0], test_x)\n",
    "    k2x = np.isin(plansza[:,1], test_x)\n",
    "    k3x = np.isin(plansza[:,2], test_x)\n",
    "    d1x = np.isin(np.diagonal(plansza), test_x)\n",
    "    d2x = np.isin(np.fliplr(plansza).diagonal(), test_x)\n",
    "    w1o = np.isin(plansza[0,:], test_o)\n",
    "    w2o = np.isin(plansza[1,:], test_o)\n",
    "    w3o = np.isin(plansza[2,:], test_o) \n",
    "    k1o = np.isin(plansza[:,0], test_o)\n",
    "    k2o = np.isin(plansza[:,1], test_o)\n",
    "    k3o = np.isin(plansza[:,2], test_o)\n",
    "    d1o = np.isin(np.diagonal(plansza), test_o)\n",
    "    d2o = np.isin(np.fliplr(plansza).diagonal(), test_o)\n",
    "    \n",
    "    masks = [w1x,w2x,w3x,k1x,k2x,k3x,d1x,d2x,w1o,w2o,w3o,k1o,k2o,k3o,d1o,d2o]\n",
    "    \n",
    "    for m in masks:\n",
    "        if np.sum(m) == 3:\n",
    "            print('Wygrana! GRATULACJE!!!')\n",
    "            w = True\n",
    "    return w\n",
    "\n",
    "# początek gry - instrukcje\n",
    "print(\"Kółko i krzyżyk!\\n\")\n",
    "            \n",
    "print(f'Tak wygląda plansza do gry:\\n{plansza}\\n')\n",
    "\n",
    "print(f'A tak wyglądają pozycje na planszy:\\n{pozycje}\\n')\n",
    "\n",
    "#główna pętla gry \n",
    "wygrana = False\n",
    "    \n",
    "lista = [] #dla warunku w pętli \n",
    "    \n",
    "while wygrana == False:\n",
    "    while wygrana == False:\n",
    "        decyzjax = int(input(f'Gdzie postawić krzyżyk? Wybierz pustą pozycję. \\n'))\n",
    "        if decyzjax not in lista: #sprawdzenie czy wybrana przez gracza pozycja jest wolna\n",
    "            wstaw_X(decyzjax)\n",
    "            czy_pelna_tablica(plansza) #funkcja sprawdza czy tablica jest pełna\n",
    "            if czy_pelna_tablica(plansza):\n",
    "                print('Tablica pełna ;)')\n",
    "                wygrana = True\n",
    "        else:\n",
    "            print('Ta pozycja jest zajęta!')\n",
    "            continue\n",
    "        break\n",
    "            \n",
    "    lista.append(decyzjax)\n",
    "        \n",
    "    if sprawdzenie(plansza,wygrana): #funkcja sprawdza wygraną\n",
    "        wygrana = True\n",
    "        \n",
    "    while wygrana == False:\n",
    "        decyzjao = int(input('Gdzie postawić kółko? Wybierz pustą pozycję. \\n'))\n",
    "        if decyzjao not in lista:\n",
    "            wstaw_O(decyzjao)\n",
    "            czy_pelna_tablica(plansza)\n",
    "            if czy_pelna_tablica(plansza):\n",
    "                print('Tablica pełna ;)')\n",
    "                wygrana = True\n",
    "    \n",
    "        else:\n",
    "            print('Ta pozycja jest zajęta!')\n",
    "            continue\n",
    "        break\n",
    "    lista.append(decyzjao)\n",
    "        \n",
    "    if sprawdzenie(plansza,wygrana):\n",
    "        wygrana = True         \n",
    "    continue\n",
    "else:\n",
    "    print('koniec gry')"
   ]
  },
  {
   "cell_type": "markdown",
   "id": "2bcfa122",
   "metadata": {},
   "source": [
    "# Zadanie 3\n",
    "\n",
    "Pobierz zbiór danych o zawodnikach NBA: https://www.kaggle.com/justinas/nba-players-data\n",
    "\n",
    "Otwórz go za pomocą Pandas i odpowiedz na pytania:"
   ]
  },
  {
   "cell_type": "code",
   "execution_count": null,
   "id": "05ec3ac3",
   "metadata": {},
   "outputs": [],
   "source": [
    "import pandas as pd\n",
    "df = pd.read_csv('all_seasons.csv')\n",
    "df.head()"
   ]
  },
  {
   "cell_type": "code",
   "execution_count": null,
   "id": "3961d3e6",
   "metadata": {},
   "outputs": [],
   "source": [
    "# sprawdzenie czy są jakieś braki\n",
    "df.isnull().sum().sum()"
   ]
  },
  {
   "cell_type": "markdown",
   "id": "e2c7be68",
   "metadata": {},
   "source": [
    "a) Czy jest jakikolwiek zawodnik spoza USA, który przed NBA uczęszczał do college'u Kentucky?"
   ]
  },
  {
   "cell_type": "code",
   "execution_count": null,
   "id": "a967a1a6",
   "metadata": {},
   "outputs": [],
   "source": [
    "# nazwiska zawodników spoza USA, którzy przed NBA uczęszczali do college'u Kentucky\n",
    "answer = set(df.player_name[df.college == 'Kentucky'][df.country !='USA'])\n",
    "print(f'Jest {len(answer)} zawodników spoza USA, którzy przed NBA uczęszczali do collegeu Kentucky: \\n\\n{answer}')"
   ]
  },
  {
   "cell_type": "markdown",
   "id": "c31a4e55",
   "metadata": {},
   "source": [
    "b) Ile wynosi średni wzrost zawodnika w calach? Czy od pierwszego sezonu w tym zbiorze do teraz powiększył się czy zmniejszył?"
   ]
  },
  {
   "cell_type": "code",
   "execution_count": null,
   "id": "16a0e1b7",
   "metadata": {},
   "outputs": [],
   "source": [
    "# funkcja przeliczająca wzrost zawodnika z cm na cale\n",
    "def funk(element):\n",
    "    return element / 2.54\n",
    "\n",
    "print(df['player_height'].apply(funk))"
   ]
  },
  {
   "cell_type": "code",
   "execution_count": null,
   "id": "0dc1d607",
   "metadata": {},
   "outputs": [],
   "source": [
    "# średni wzrost zawodnika w calach\n",
    "h_mean_cal = df['player_height'].apply(funk).mean()\n",
    "print(f'Średni wzrost zawodnika w calach wynosi: {h_mean_cal }')"
   ]
  },
  {
   "cell_type": "code",
   "execution_count": null,
   "id": "a0cdbf78",
   "metadata": {},
   "outputs": [],
   "source": [
    "# średni wzrost zawodników w każdym sezonie \n",
    "df.groupby('season')['player_height'].mean().apply(funk)\n",
    "sezon_wzrost = pd.DataFrame(df.groupby('season')['player_height'].mean().apply(funk))\n",
    "sezon_wzrost"
   ]
  },
  {
   "cell_type": "code",
   "execution_count": null,
   "id": "f90f4cbb",
   "metadata": {},
   "outputs": [],
   "source": [
    "#różnica pomiędzy srednim wzrostem w pierwsym sezonie a obecnym sezonem\n",
    "diff = sezon_wzrost.iloc[0] - sezon_wzrost.iloc[-1]\n",
    "print(diff)\n",
    "print('Średni wzrost zawodnika w porównaniu z pierwszym sezonem zmniejszył się o ponad 1 cal.')"
   ]
  },
  {
   "cell_type": "markdown",
   "id": "ee17c7cd",
   "metadata": {},
   "source": [
    "c) Kto w badanym okresie rzucił łącznie najwięcej punktów? Czy ta osoba miała też największą średnią punktów na sezon?"
   ]
  },
  {
   "cell_type": "code",
   "execution_count": null,
   "id": "3c940bca",
   "metadata": {},
   "outputs": [],
   "source": [
    "#nowa kolumna dla łącznej ilości punktów = ilość meczy * średnia liczba zdobytych punktów\n",
    "df['total_score']=df['gp']*df['pts']"
   ]
  },
  {
   "cell_type": "code",
   "execution_count": null,
   "id": "d2bd15f3",
   "metadata": {},
   "outputs": [],
   "source": [
    "#grupujemy po zawodniku i sezonie\n",
    "df.groupby(['player_name','season'])['total_score'].sum().sort_values(ascending=False)"
   ]
  },
  {
   "cell_type": "markdown",
   "id": "98d9baa2",
   "metadata": {},
   "source": [
    "**Łącznie najwięcej punktów (2832.0) rzucił Kobe Bryant w sezonie 2005-06."
   ]
  },
  {
   "cell_type": "code",
   "execution_count": null,
   "id": "bc90c376",
   "metadata": {},
   "outputs": [],
   "source": [
    "#średnia ilość punków każdego zwodnika w sezonie \n",
    "df.groupby(['player_name','season']).pts.mean().sort_values(ascending=False)"
   ]
  },
  {
   "cell_type": "markdown",
   "id": "ec08f20a",
   "metadata": {},
   "source": [
    "**Ta osoba nie miała największej średniej punktów na sezon - był to James Harden - 36.1"
   ]
  },
  {
   "cell_type": "markdown",
   "id": "2db9fc0c",
   "metadata": {},
   "source": [
    "d) W której rundzie draftu największy udział procentowy mieli zawodnicy ważący więcej niż 100 kg?"
   ]
  },
  {
   "cell_type": "code",
   "execution_count": null,
   "id": "aa3e4318",
   "metadata": {},
   "outputs": [],
   "source": [
    "#zawodnicy o wadze powyżej 100 kg\n",
    "df_w = df[df['player_weight']>100]\n",
    "df_w.head()"
   ]
  },
  {
   "cell_type": "code",
   "execution_count": null,
   "id": "c3572926",
   "metadata": {},
   "outputs": [],
   "source": [
    "#grupowanie zawodników po rundzie draftu\n",
    "df_draft = df.groupby('draft_round').player_name.count()\n",
    "df_draft"
   ]
  },
  {
   "cell_type": "code",
   "execution_count": null,
   "id": "be2dce7e",
   "metadata": {},
   "outputs": [],
   "source": [
    "#grupowanie zawodników o wadze powyżej 100 kg po rundzie draftu\n",
    "df_draft_w = df_w.groupby('draft_round').player_name.count()\n",
    "df_draft_w"
   ]
  },
  {
   "cell_type": "code",
   "execution_count": null,
   "id": "652c5270",
   "metadata": {},
   "outputs": [],
   "source": [
    "#obliczenie procentowego udziału zawodników powyżej 100 kg w każdym drafcie\n",
    "udzial = df_draft_w / df_draft *100"
   ]
  },
  {
   "cell_type": "code",
   "execution_count": null,
   "id": "16c4ecad",
   "metadata": {},
   "outputs": [],
   "source": [
    "#największy udział procentowy\n",
    "udzial.sort_values(ascending=False)"
   ]
  },
  {
   "cell_type": "markdown",
   "id": "6c4fbaf4",
   "metadata": {},
   "source": [
    "**Zawodnicy ważący ponad 100 kg mieli największy udział procentowy w 4 rundzie draftu."
   ]
  },
  {
   "cell_type": "code",
   "execution_count": null,
   "id": "c9dc7e1d",
   "metadata": {},
   "outputs": [],
   "source": []
  }
 ],
 "metadata": {
  "kernelspec": {
   "display_name": "Python 3 (ipykernel)",
   "language": "python",
   "name": "python3"
  },
  "language_info": {
   "codemirror_mode": {
    "name": "ipython",
    "version": 3
   },
   "file_extension": ".py",
   "mimetype": "text/x-python",
   "name": "python",
   "nbconvert_exporter": "python",
   "pygments_lexer": "ipython3",
   "version": "3.9.13"
  }
 },
 "nbformat": 4,
 "nbformat_minor": 5
}
